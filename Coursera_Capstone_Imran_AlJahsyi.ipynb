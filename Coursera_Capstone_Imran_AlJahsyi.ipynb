{
  "nbformat": 4,
  "nbformat_minor": 0,
  "metadata": {
    "colab": {
      "name": "Coursera_Capstone_Imran AlJahsyi.ipynb",
      "provenance": [],
      "authorship_tag": "ABX9TyMLhd1FP02vBvLDVFGg1nhj",
      "include_colab_link": true
    },
    "kernelspec": {
      "name": "python3",
      "display_name": "Python 3"
    }
  },
  "cells": [
    {
      "cell_type": "markdown",
      "metadata": {
        "id": "view-in-github",
        "colab_type": "text"
      },
      "source": [
        "<a href=\"https://colab.research.google.com/github/imranaljahsyi/Coursera_Capstone/blob/main/Coursera_Capstone_Imran_AlJahsyi.ipynb\" target=\"_parent\"><img src=\"https://colab.research.google.com/assets/colab-badge.svg\" alt=\"Open In Colab\"/></a>"
      ]
    },
    {
      "cell_type": "markdown",
      "metadata": {
        "id": "2xjXZYMtFSby"
      },
      "source": [
        "Hi everyone, welcome to my Capstone Project notebook. Most of the markdown and code you will see written here will be mainly for the purpose of this project."
      ]
    },
    {
      "cell_type": "code",
      "metadata": {
        "id": "sSKw0evDFGHG"
      },
      "source": [
        "import pandas as pd\r\n",
        "import numpy as np"
      ],
      "execution_count": 2,
      "outputs": []
    },
    {
      "cell_type": "code",
      "metadata": {
        "colab": {
          "base_uri": "https://localhost:8080/"
        },
        "id": "yx3VaRykFs6k",
        "outputId": "f4a42587-ced6-4167-daf7-4c5e42e8b5da"
      },
      "source": [
        "print (\"Hello Capstone Project Course!\")"
      ],
      "execution_count": 3,
      "outputs": [
        {
          "output_type": "stream",
          "text": [
            "Hello Capstone Project Course!\n"
          ],
          "name": "stdout"
        }
      ]
    },
    {
      "cell_type": "code",
      "metadata": {
        "id": "yp2U6MjGF7mW"
      },
      "source": [
        ""
      ],
      "execution_count": null,
      "outputs": []
    }
  ]
}
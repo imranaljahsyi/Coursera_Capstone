{
  "nbformat": 4,
  "nbformat_minor": 0,
  "metadata": {
    "colab": {
      "name": "Battle of the Neighborhoods - Coursera Capstone Project (Week1).ipynb",
      "provenance": [],
      "collapsed_sections": [
        "jWEV1ux70QmB"
      ],
      "authorship_tag": "ABX9TyM9TMCaHwhrImsEDAGCuJTY",
      "include_colab_link": true
    },
    "kernelspec": {
      "name": "python3",
      "display_name": "Python 3"
    }
  },
  "cells": [
    {
      "cell_type": "markdown",
      "metadata": {
        "id": "view-in-github",
        "colab_type": "text"
      },
      "source": [
        "<a href=\"https://colab.research.google.com/github/imranaljahsyi/Coursera_Capstone/blob/main/Battle_of_the_Neighborhoods_Coursera_Capstone_Project_(Week1).ipynb\" target=\"_parent\"><img src=\"https://colab.research.google.com/assets/colab-badge.svg\" alt=\"Open In Colab\"/></a>"
      ]
    },
    {
      "cell_type": "markdown",
      "metadata": {
        "id": "-OmTq96otmCo"
      },
      "source": [
        "# **Battle of the Neighborhoods - Coursera Capstone Project**"
      ]
    },
    {
      "cell_type": "markdown",
      "metadata": {
        "id": "DOFZUiUmt0rm"
      },
      "source": [
        "# **Introduction**"
      ]
    },
    {
      "cell_type": "markdown",
      "metadata": {
        "id": "SZ6i5F8iuFmi"
      },
      "source": [
        "A Fintech (cashless payment service) company is looking to expand into Malaysia primarily setting up shop as well as operations in the Klang Valley preferably Kuala Lumpur, the capital city of Malaysia, and Subang Jaya, a highly urbanised locality in Selangor. \r\n",
        "\r\n",
        "The company wants insight into the neighborhoods and local businesses in the cities so that it can identify ways to develop their offerings (gift vouchers, F&B partnerships, territorial strategy) in the context of cities in Kuala Lumpur and Subang Jaya. \r\n",
        "\r\n",
        "This project will explore the restaurant data  and ultimately how the the aforementioned firm can leverage the information obtained."
      ]
    },
    {
      "cell_type": "markdown",
      "metadata": {
        "id": "aZDA6VXcxNtR"
      },
      "source": [
        "**Questions to ask**\r\n",
        "\r\n",
        "* What is the number of restaurants in Kuala Lumpur & Subang Jaya ?\r\n",
        "* Which areas are have the most restaurants ?\r\n",
        "* What places have best restaurant in Kuala Lumpur?\r\n",
        "* What places have best restaurant in Kuala Lumpur?\r\n"
      ]
    },
    {
      "cell_type": "markdown",
      "metadata": {
        "id": "DHbX74Uvw561"
      },
      "source": [
        "# **Data** "
      ]
    },
    {
      "cell_type": "markdown",
      "metadata": {
        "id": "2GL-LPVcyxOA"
      },
      "source": [
        "For this project we need the following data :\r\n",
        "\r\n",
        "\r\n",
        "1.   Resturants data that contains list Locality, Resturant name,Rating along with their latitude and longitude in both Kuala Lumpur and Subang Jaya.\r\n",
        "*   Data source : GitHub user 'heiswayi' Malaysia Postal Codes & CSV Datasets\r\n",
        "*   Description : This data set contains the required information. And we will use this data set to explore various localities of both areas.\r\n",
        "\r\n",
        "\r\n",
        "---\r\n",
        "\r\n",
        "---\r\n",
        "\r\n",
        "\r\n",
        "\r\n",
        "\r\n",
        "\r\n",
        "2.   Nearby places in each locality of both Kuala Lumpur & Subang Jaya.\r\n",
        "*   Data source : Fousquare API & Pos Malaysia API\r\n",
        "*   Description : By using this api we will get all the venues in each neighborhood."
      ]
    },
    {
      "cell_type": "markdown",
      "metadata": {
        "id": "jWEV1ux70QmB"
      },
      "source": [
        "# **Approach**"
      ]
    },
    {
      "cell_type": "markdown",
      "metadata": {
        "id": "_DbQyVAJ0UR4"
      },
      "source": [
        "\r\n",
        "\r\n",
        "1.   Collect the Kuala Lumpur data from dataset source.\r\n",
        "2.   Using FourSquare API we will find all venues for each neighborhood.\r\n",
        "3.   Filter out all venues that are nearby by locality.\r\n",
        "4.   Using aggregative rating for each resturant to find the best places.\r\n",
        "5.   Visualize the Ranking of neighborhoods using folium library and other libraries for other various operations aligned with the project such as pandas, numpy (calculation) and scikit-learn (machine learning models)."
      ]
    },
    {
      "cell_type": "code",
      "metadata": {
        "id": "b0KB5Xk20TMn"
      },
      "source": [
        "import numpy as np # library to handle data in a vectorized manner\r\n",
        "import pandas as pd # library for data analsysis\r\n",
        "pd.set_option('display.max_columns', None)\r\n",
        "pd.set_option('display.max_rows', None)\r\n",
        "import json # library to handle JSON files\r\n",
        "\r\n",
        "from geopy.geocoders import Nominatim # convert an address into latitude and longitude values\r\n",
        "\r\n",
        "import requests # library to handle requests\r\n",
        "from pandas.io.json import json_normalize # tranform JSON file into a pandas dataframe\r\n",
        "import matplotlib.cm as cm\r\n",
        "import matplotlib.colors as colors\r\n",
        "from sklearn.cluster import KMeans\r\n",
        "import folium \r\n",
        "from bs4 import BeautifulSoup"
      ],
      "execution_count": 4,
      "outputs": []
    },
    {
      "cell_type": "code",
      "metadata": {
        "colab": {
          "base_uri": "https://localhost:8080/",
          "height": 390
        },
        "id": "yoCLpu8SCRJA",
        "outputId": "039189b9-8c63-48e7-cb62-cc1ba293d89c"
      },
      "source": [
        "#Obtain Data From GitHub Source\r\n",
        "table = pd.read_html('https://github.com/heiswayi/malaysia-postcodes/blob/master/kuala_lumpur.csv', header = 0)\r\n",
        "\r\n",
        "#Obtain the first table\r\n",
        "df_KL = table[0]\r\n",
        "df_KL.head(11)"
      ],
      "execution_count": 20,
      "outputs": [
        {
          "output_type": "execute_result",
          "data": {
            "text/html": [
              "<div>\n",
              "<style scoped>\n",
              "    .dataframe tbody tr th:only-of-type {\n",
              "        vertical-align: middle;\n",
              "    }\n",
              "\n",
              "    .dataframe tbody tr th {\n",
              "        vertical-align: top;\n",
              "    }\n",
              "\n",
              "    .dataframe thead th {\n",
              "        text-align: right;\n",
              "    }\n",
              "</style>\n",
              "<table border=\"1\" class=\"dataframe\">\n",
              "  <thead>\n",
              "    <tr style=\"text-align: right;\">\n",
              "      <th></th>\n",
              "      <th>Unnamed: 0</th>\n",
              "      <th>POSTCODE</th>\n",
              "      <th>ADDRESS</th>\n",
              "      <th>CITY</th>\n",
              "      <th>STATE</th>\n",
              "    </tr>\n",
              "  </thead>\n",
              "  <tbody>\n",
              "    <tr>\n",
              "      <th>0</th>\n",
              "      <td>NaN</td>\n",
              "      <td>50000</td>\n",
              "      <td>Bangunan Bangkok Bank</td>\n",
              "      <td>Kuala Lumpur</td>\n",
              "      <td>KUL</td>\n",
              "    </tr>\n",
              "    <tr>\n",
              "      <th>1</th>\n",
              "      <td>NaN</td>\n",
              "      <td>50000</td>\n",
              "      <td>Jalan Balai Polis</td>\n",
              "      <td>Kuala Lumpur</td>\n",
              "      <td>KUL</td>\n",
              "    </tr>\n",
              "    <tr>\n",
              "      <th>2</th>\n",
              "      <td>NaN</td>\n",
              "      <td>50000</td>\n",
              "      <td>Jalan Bandar</td>\n",
              "      <td>Kuala Lumpur</td>\n",
              "      <td>KUL</td>\n",
              "    </tr>\n",
              "    <tr>\n",
              "      <th>3</th>\n",
              "      <td>NaN</td>\n",
              "      <td>50000</td>\n",
              "      <td>Jalan Cheng Lock</td>\n",
              "      <td>Kuala Lumpur</td>\n",
              "      <td>KUL</td>\n",
              "    </tr>\n",
              "    <tr>\n",
              "      <th>4</th>\n",
              "      <td>NaN</td>\n",
              "      <td>50000</td>\n",
              "      <td>Jalan Hang Lekir</td>\n",
              "      <td>Kuala Lumpur</td>\n",
              "      <td>KUL</td>\n",
              "    </tr>\n",
              "    <tr>\n",
              "      <th>5</th>\n",
              "      <td>NaN</td>\n",
              "      <td>50000</td>\n",
              "      <td>Jalan Hang Naadim</td>\n",
              "      <td>Kuala Lumpur</td>\n",
              "      <td>KUL</td>\n",
              "    </tr>\n",
              "    <tr>\n",
              "      <th>6</th>\n",
              "      <td>NaN</td>\n",
              "      <td>50000</td>\n",
              "      <td>Jalan Panggung</td>\n",
              "      <td>Kuala Lumpur</td>\n",
              "      <td>KUL</td>\n",
              "    </tr>\n",
              "    <tr>\n",
              "      <th>7</th>\n",
              "      <td>NaN</td>\n",
              "      <td>50000</td>\n",
              "      <td>Jalan Petaling</td>\n",
              "      <td>Kuala Lumpur</td>\n",
              "      <td>KUL</td>\n",
              "    </tr>\n",
              "    <tr>\n",
              "      <th>8</th>\n",
              "      <td>NaN</td>\n",
              "      <td>50000</td>\n",
              "      <td>Jalan Sang Guna</td>\n",
              "      <td>Kuala Lumpur</td>\n",
              "      <td>KUL</td>\n",
              "    </tr>\n",
              "    <tr>\n",
              "      <th>9</th>\n",
              "      <td>NaN</td>\n",
              "      <td>50000</td>\n",
              "      <td>Jalan Skola</td>\n",
              "      <td>Kuala Lumpur</td>\n",
              "      <td>KUL</td>\n",
              "    </tr>\n",
              "    <tr>\n",
              "      <th>10</th>\n",
              "      <td>NaN</td>\n",
              "      <td>50000</td>\n",
              "      <td>Jalan Sultan Sulaiman</td>\n",
              "      <td>Kuala Lumpur</td>\n",
              "      <td>KUL</td>\n",
              "    </tr>\n",
              "  </tbody>\n",
              "</table>\n",
              "</div>"
            ],
            "text/plain": [
              "    Unnamed: 0  POSTCODE                ADDRESS          CITY STATE\n",
              "0          NaN     50000  Bangunan Bangkok Bank  Kuala Lumpur   KUL\n",
              "1          NaN     50000      Jalan Balai Polis  Kuala Lumpur   KUL\n",
              "2          NaN     50000           Jalan Bandar  Kuala Lumpur   KUL\n",
              "3          NaN     50000       Jalan Cheng Lock  Kuala Lumpur   KUL\n",
              "4          NaN     50000       Jalan Hang Lekir  Kuala Lumpur   KUL\n",
              "5          NaN     50000      Jalan Hang Naadim  Kuala Lumpur   KUL\n",
              "6          NaN     50000         Jalan Panggung  Kuala Lumpur   KUL\n",
              "7          NaN     50000         Jalan Petaling  Kuala Lumpur   KUL\n",
              "8          NaN     50000        Jalan Sang Guna  Kuala Lumpur   KUL\n",
              "9          NaN     50000            Jalan Skola  Kuala Lumpur   KUL\n",
              "10         NaN     50000  Jalan Sultan Sulaiman  Kuala Lumpur   KUL"
            ]
          },
          "metadata": {
            "tags": []
          },
          "execution_count": 20
        }
      ]
    },
    {
      "cell_type": "code",
      "metadata": {
        "id": "Xdd8eWk_HCgf"
      },
      "source": [
        ""
      ],
      "execution_count": null,
      "outputs": []
    }
  ]
}